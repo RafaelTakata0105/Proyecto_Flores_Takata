{
 "cells": [
  {
   "cell_type": "markdown",
   "metadata": {},
   "source": [
    "___\n",
    "\n",
    "\n",
    "# <font color= #8A0829> Proyecto Taller de Modelado de Datos </font>\n",
    "- <Strong> `Roi Jared Flores Garza Stone` </Strong>\n",
    "- <Strong> `Rafael Takata García` </Strong>\n",
    "- <Strong> Año </Strong>: 2024\n",
    "- <Strong> Email: </Strong>  <font color=\"blue\"> `roi.flores@iteso.mx` </font>\n",
    "- <Strong> Email: </Strong>  <font color=\"blue\"> `rafael.takata@iteso.mx` </font>\n",
    "___\n",
    "\n",
    "\n"
   ]
  },
  {
   "cell_type": "markdown",
   "metadata": {},
   "source": [
    "### OBJETIVO: \n",
    "\n",
    "El objetivo del proyecto es evaluar el conocimiento adquirido sobre la preparación de datos y construcción de modelos predictivos tanto para problemas de regresión como de clasificación.  Se busca abordar la construcción de los modelos, fundamentar por medio de la comunicación de resultados, evaluación de las predicciones del modelo y la metodología establecida para la preparación de los datos. "
   ]
  },
  {
   "cell_type": "markdown",
   "metadata": {},
   "source": [
    "\n",
    "### Entrega 1:\n"
   ]
  },
  {
   "cell_type": "markdown",
   "metadata": {},
   "source": [
    "# Regresión"
   ]
  },
  {
   "cell_type": "markdown",
   "metadata": {},
   "source": [
    "### Definición del problema:\n",
    "\n",
    "La NBA (National Basketball Association), fundada en 1946 en Estados Unidos, es ampliamente reconocida como la liga de baloncesto profesional más prestigiosa y competitiva del mundo. Con equipos distribuidos en ciudades de Estados Unidos y Canadá, la NBA ha atraído a los mejores jugadores de diversos países, convirtiéndose en un fenómeno global que trasciende fronteras y culturas.\n",
    "\n",
    "Al igual que en otras ligas estadounidenses, la NBA registra meticulosamente estadísticas y datos de cada partido, lo que permite un análisis profundo del rendimiento de los jugadores, patrones de juego, y proyecciones sobre el éxito de los equipos. Esta abundancia de información es clave para optimizar estrategias, tomar decisiones y entender el impacto de cada jugador en la cancha.\n",
    "\n",
    "En este análisis, utilizaremos los datos de la temporada 2023 para predecir la cantidad de puntos que anotarán los jugadores, una métrica fundamental para evaluar el rendimiento en el juego. El conjunto de datos se ha obtenido de Kaggle y puede consultarse en el siguiente enlace: [NBA Players Stats 2023 Season](https://www.kaggle.com/datasets/amirhosseinmirzaie/nba-players-stats2023-season?resource=download)."
   ]
  },
  {
   "cell_type": "markdown",
   "metadata": {},
   "source": [
    "2. **Visualización, exploración, preparación y análisis de datos:** \n",
    "- Extracción de información estadística básica en los datos analizados.\n",
    "- En esta fase las características de las bases de datos deben ser mencionadas (datos nulos, datos sesgados, datos atípicos, distribución de datos, etc.)\n",
    "- Limpieza de datos\n",
    "- En esta fase de debe mencionar y mostrar el proceso y decisiones tomadas para procesar y limpiar estos datos. \n",
    "- Se deben incluir gráficos interesantes que muestren el comportamiento de los datos y cómo se relacionan, así como acompañar los gráficos con una explicación de lo que se observa en el gráfico.  \n",
    "\n"
   ]
  },
  {
   "cell_type": "markdown",
   "metadata": {},
   "source": [
    "#### Clasificación"
   ]
  },
  {
   "cell_type": "markdown",
   "metadata": {},
   "source": [
    "1. **Definición del problema**. El estudiante debe definir un problema a ser resuelto, basado en la selección de un conjunto de datos de un problema que sea de su interés. Es importante que los datos seleccionados correspondan a un problema de **clasificación** de forma que cumpla con el objetivo de la sección de este proyecto. Si la selección de los datos es complicada, como sugerencia pueden tomar el que sea de su interés de las siguientes páginas:\n",
    "\n",
    "http://archive.ics.uci.edu/ml/\n",
    "\n",
    "https://www.kdnuggets.com/datasets/index.html\n",
    "\n",
    "https://www.kaggle.com/datasets\n",
    "\n",
    "https://data.world/\n",
    "\n",
    "NOTA: Si tienes alguna duda sobre si el dataset elegido es el correcto para el problema a resolver de regresión me puedes consultar y lo analizamos. \n",
    "\n",
    "2. **Visualización, exploración, preparación y análisis de datos:** \n",
    "- Extracción de información estadística básica en los datos analizados.\n",
    "- En esta fase las características de las bases de datos deben ser mencionadas (datos nulos, datos sesgados, datos atípicos, distribución de datos, datos imbalanceados en la variable de salida, etc.)\n",
    "- Limpieza de datos\n",
    "- En esta fase de debe mencionar y mostrar el proceso y decisiones tomadas para procesar y limpiar estos datos. \n",
    "- Se deben incluir gráficos interesantes que muestren el comportamiento de los datos y cómo se relacionan, así como acompañar los gráficos con una explicación de lo que se observa en el gráfico.  \n",
    "\n",
    " "
   ]
  },
  {
   "cell_type": "markdown",
   "metadata": {},
   "source": [
    "### Engrega 2:\n",
    "\n",
    "En esta fase se debe entregar lo que se hizo en la entrega 1 con sus respectivas correcciones más los siguientes puntos:"
   ]
  },
  {
   "cell_type": "markdown",
   "metadata": {},
   "source": [
    "#### Regresión \n",
    "\n",
    "\n",
    "3. **Procesar modelo de regresión:** \n",
    "- Después de haber hecho el análisis de tus datos, puedes irte dando una idea de cuál modelo es el mejor para tu dataset. \n",
    "- Explica dadas las caracterícas que observaste sobre los datos que tienes, cuál sería el mejor modelo a aplicar en tu dataset. \n",
    "- Una vez sugerido un modelo que se puede aplicar a tu dataset, se pide que compares al menos 4 modelos de regresión para estimar predicciones en tus datos y los compares utilizando métricas de performance. \n",
    "- La intención principal es hacer una comparación del performance de cada modelo, incluyendo la mención de la complejidad (número de parámetros y tiempo de ejecución).\n",
    "- Se pide añadir un método de ajuste de hiperparámetros para mejorar el performance del modelo. \n",
    "- Se pide justificar cuál métrica de performance es la mejor para utilizar en tu dataset (MSE, MAE, R2) (puedes utilizar varias si es que así lo crees necesario). \n",
    "- Una vez comparados los 4 modelos y elegido el mejor modelo dadas las métricas de performance, compara si tu respuesta inicial sobre cuál modelo era el mejor para tus datos es igual al resultado de comparar los 4 modelos. \n",
    "- Crear un conjunto de datos \"nuevos\" donde se prediga la variable objetivo para esos nuevos datos utilizando el mejor modelo que obtuviste. \n",
    "\n",
    "4. **Discusión de los resultados:** \n",
    "- Basado en los resultados de la comparación y performance de los modelos, generar una sección de conclusiones donde se hable de las ventajas y desventajas de los modelos propuestos. \n",
    "- Explica qué variables fueron las más importantes en tu modelo y qué relaciones interesantes viste sobre tus datos. \n",
    "\n",
    "\n",
    "#### Clasificación\n",
    "\n",
    "3. **Procesar modelo de regresión:** \n",
    "- Después de haber hecho el análisis de tus datos, puedes irte dando una idea de cuál modelo es el mejor para tu dataset. \n",
    "- Explica dadas las caracterícas que observaste sobre los datos que tienes, cuál sería el mejor modelo a aplicar en tu dataset. \n",
    "- Una vez sugerido un modelo que se puede aplicar a tu dataset, se pide que compares al menos 4 modelos de clasificación para estimar predicciones en tus datos y los compares utilizando métricas de performance. \n",
    "- La intención principal es hacer una comparación del performance de cada modelo, incluyendo la mención de la complejidad (número de parámetros y tiempo de ejecución).\n",
    "- Se pide añadir un método de ajuste de hiperparámetros para mejorar el performance del modelo. \n",
    "- Se pide justificar cuál métrica de performance es la mejor para utilizar en tu dataset (precision, recall, accuracy, f1 score, etc.) (puedes utilizar varias si es que así lo crees necesario). \n",
    "- Una vez comparados los 4 modelos y elegido el mejor modelo dadas las métricas de performance, compara si tu respuesta inicial sobre cuál modelo era el mejor para tus datos es igual al resultado de comparar los 4 modelos. \n",
    "- Crear un conjunto de datos \"nuevos\" donde se prediga la variable objetivo para esos nuevos datos utilizando el mejor modelo que obtuviste. \n",
    "\n",
    "4. **Discusión de los resultados:** \n",
    "- Basado en los resultados de la comparación y performance de los modelos, generar una sección de conclusiones donde se hable de las ventajas y desventajas de los modelos propuestos. \n",
    "- Explica qué variables fueron las más importantes en tu modelo y qué relaciones interesantes viste sobre tus datos. "
   ]
  },
  {
   "cell_type": "markdown",
   "metadata": {},
   "source": [
    "#### Entrega 3\n",
    "\n",
    " - Imagina que le estás presentando tu proyecto a tu jefe (tu jefe no es una persona muy técnica que sepa mucho de código) \n",
    " - Sabiendo esto, en esta entrega se pide hacer una presentación donde hables sobre todo lo interesante que viste en tu proyecto, trata de hacer la presentación lo más entendible posible para que tu jefe comprenda todo lo que tuviste que hacer desde un inicio así como los resultados. (No puedes mostrar código, tiene que ser visual y mostrar resultados). \n",
    " - En esta fase se pide entregar las correcciones sugeridas de las dos entregas pasadas. \n"
   ]
  },
  {
   "cell_type": "markdown",
   "metadata": {},
   "source": [
    "### Calificación"
   ]
  },
  {
   "cell_type": "markdown",
   "metadata": {},
   "source": [
    "La calificación de cada fase del proyecto incluido en el reporte final es la siguiente:\n",
    "\n",
    "| Fase | Puntuación | Características Generales |\n",
    "| --- | --- | --- |\n",
    "| Definición del problema | 15% | 1. Mencionar el origen de los datos <br /> 2.Dar contexto de los datos (significado de las variables si es posible) <br /> 3. Describir de qué se trata el problema a resolver|\n",
    "| Preparación de datos | 30% | 1. Incluya **gráficos** y métricas utilizadas para describir la base de datos. <br /> 1. Describir el tratamiento de variables que requieren transformación o modificación de valores. |\n",
    "| Procesar modelo de regresión/clasificación | 40% | 1. Describir el modelo aplicado. <br /> 2. Evaluar el desempeño de cada modelo utilizando métricas comunes para poder realizar la comparación. <br /> 3. Pruebe los modelos utilizando datasets en común para que la comparación sea válida 4. Aplicación del modelo para predecir datos nuevos|\n",
    "| Discusión de los resultados | 15% | 1. Resalte sus observaciones validadas por las métricas que se muestran dentro del desarrollo. <br /> 2. Dar conclusión personal de los resultados y el uso o aplicación de los modelos. |"
   ]
  },
  {
   "cell_type": "markdown",
   "metadata": {},
   "source": [
    "### ¿ Qué debe tener cada entregable?"
   ]
  },
  {
   "cell_type": "markdown",
   "metadata": {},
   "source": [
    "\n",
    "- El informe del trabajo realizado se entregará digitalmente en un documento elaborado en una computadora (no fotografías de hojas o cuadernos), e incluirá como mínimo:\n",
    "    - Nombre y apellidos de los alumnos.\n",
    "    - Es obligatorio que incluyan el código que generaron para realizar la práctica.\n",
    "    - Es obligatorio que incluyan los archivos que contengan los datos a analizar para cada problema (regresión y clasificación)\n"
   ]
  }
 ],
 "metadata": {
  "kernelspec": {
   "display_name": "Python 3 (ipykernel)",
   "language": "python",
   "name": "python3"
  },
  "language_info": {
   "codemirror_mode": {
    "name": "ipython",
    "version": 3
   },
   "file_extension": ".py",
   "mimetype": "text/x-python",
   "name": "python",
   "nbconvert_exporter": "python",
   "pygments_lexer": "ipython3",
   "version": "3.11.4"
  }
 },
 "nbformat": 4,
 "nbformat_minor": 4
}
